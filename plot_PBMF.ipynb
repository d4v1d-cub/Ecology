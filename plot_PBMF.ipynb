{
 "cells": [
  {
   "cell_type": "code",
   "execution_count": 1,
   "metadata": {},
   "outputs": [],
   "source": [
    "import numpy as np\n",
    "import matplotlib.pyplot as plt\n",
    "import networkx as nx"
   ]
  },
  {
   "cell_type": "code",
   "execution_count": 11,
   "metadata": {},
   "outputs": [],
   "source": [
    "def read_mij(filename, N):\n",
    "    \"\"\"\n",
    "    Read a file with the messages and return a numpy array with the messages and a nx graph\n",
    "    \"\"\"\n",
    "    with open(filename, 'r') as f:\n",
    "        lines = f.readlines()\n",
    "\n",
    "    graph = nx.empty_graph(N, create_using=nx.DiGraph)\n",
    "    messages = []\n",
    "    for line in lines:\n",
    "        parts = line.split()\n",
    "        index = int(parts[0])\n",
    "        i, j = (int(x) for x in parts[1][2:].split(\"to\"))\n",
    "        message = [float(x) for x in parts[2:]]\n",
    "        messages.append(message)\n",
    "        graph.add_edge(i, j, index_message=index)\n",
    "\n",
    "    messages = np.array(messages)\n",
    "    return messages, graph"
   ]
  },
  {
   "cell_type": "code",
   "execution_count": null,
   "metadata": {},
   "outputs": [],
   "source": [
    "def compt_mhat(messages, graph):"
   ]
  },
  {
   "cell_type": "code",
   "execution_count": 12,
   "metadata": {},
   "outputs": [],
   "source": [
    "path = \"/media/david/Data/UH/Grupo_de_investigacion/Ecology/Results/PBMF/AllData\"\n",
    "T = 0.50\n",
    "lda = 0.01\n",
    "av0 = \"0.08\"\n",
    "tol = \"1.0e-04\"\n",
    "maxiter = 500\n",
    "eps = 1.00\n",
    "mu = 0.10\n",
    "sigma = 0.34\n",
    "nmin = \"1.0e-03\"\n",
    "nmax = 3.00\n",
    "npoints = 300\n",
    "N = 1000\n",
    "c = 3\n",
    "seed = 1\n",
    "filename = f'PBMF_Lotka_Volterra_steady_state_mess_gr_inside_RRG_T_{\"{0:.2f}\".format(T)}_lambda_{\"{0:.2f}\".format(lda)}_av0_{av0}_tol_{tol}_maxiter_{maxiter}_eps_{\"{0:.2f}\".format(eps)}_mu_{\"{0:.2f}\".format(mu)}_sigma_{\"{0:.2f}\".format(sigma)}_nmin_{nmin}_nmax_{\"{0:.2f}\".format(nmax)}_npoints_{npoints}_N_{N}_c_{c}_seed_{seed}.txt'\n",
    "full_name = path + '/' + filename"
   ]
  },
  {
   "cell_type": "code",
   "execution_count": null,
   "metadata": {},
   "outputs": [],
   "source": [
    "messages, graph = read_mij(full_name, N)"
   ]
  }
 ],
 "metadata": {
  "kernelspec": {
   "display_name": "base",
   "language": "python",
   "name": "python3"
  },
  "language_info": {
   "codemirror_mode": {
    "name": "ipython",
    "version": 3
   },
   "file_extension": ".py",
   "mimetype": "text/x-python",
   "name": "python",
   "nbconvert_exporter": "python",
   "pygments_lexer": "ipython3",
   "version": "3.9.12"
  }
 },
 "nbformat": 4,
 "nbformat_minor": 2
}
